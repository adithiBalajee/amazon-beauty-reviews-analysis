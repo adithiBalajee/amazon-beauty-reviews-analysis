{
 "cells": [
  {
   "cell_type": "markdown",
   "id": "ab87c82e-6b2a-4b51-bb20-a760e0d5bd76",
   "metadata": {},
   "source": [
    "# Amazon 'All Beauty' Category Analysis\n",
    "\n",
    "**Author:** Adithi Balajee  \n",
    "**Course:** Data Science @ CCM  \n",
    "**Date:** Spring 2025"
   ]
  },
  {
   "cell_type": "markdown",
   "id": "b9c273af-6ac7-4301-9c8e-bb0fbd19c412",
   "metadata": {},
   "source": [
    "### Project Overview\n",
    "\n",
    "This project explores customer reviews from Amazon's *All Beauty* product category. The dataset includes both review content and product metadata (such as brand, category, and images), offering a detailed look into customer sentiment and product performance.\n",
    "\n",
    "The goal is to clean, merge, and analyze the data to answer meaningful questions about consumer behavior and product trends.\n",
    "\n",
    "\n",
    "The dataset is *sourced* from [Amazon Review Data (2018)](https://nijianmo.github.io/amazon/index.html 'Amazon Review Data (2018)'), a study done by a now graduated grad student (Jianmo Ni), at UCSD\n"
   ]
  },
  {
   "cell_type": "markdown",
   "id": "977d3a44-035e-4cc7-83e5-30ca3b26978c",
   "metadata": {},
   "source": [
    "---\n",
    "\n",
    "## Key Research Questions\n",
    "\n",
    "1. Do verified purchase reviews differ in rating compared to unverified ones?\n",
    "2. Are there temporal trends in reviews — do ratings trend higher or lower over time?\n",
    "3. Which brands receive the most consistent ratings?¶\n",
    "4. Is there a correlation between the sentiment of review text and the star rating?"
   ]
  },
  {
   "cell_type": "markdown",
   "id": "2b1e401c-6970-4917-a29e-e0bc2cc6821e",
   "metadata": {},
   "source": [
    "## Import the Required Libraries"
   ]
  },
  {
   "cell_type": "code",
   "execution_count": 302,
   "id": "d09c3dde",
   "metadata": {},
   "outputs": [],
   "source": [
    "import pandas as pd\n",
    "import json\n",
    "import seaborn as sns\n",
    "import matplotlib.pyplot as plt\n",
    "from textblob import TextBlob"
   ]
  },
  {
   "cell_type": "markdown",
   "id": "ef801576-d7c1-4641-b9f3-7101ddc71e9d",
   "metadata": {},
   "source": [
    "## Convert the JSON Review and Metadata Files to CSV Format\n",
    "\n",
    "- I loaded two JSON files:\n",
    "  - `All_Beauty.json` (contains product reviews)\n",
    "  - `meta_All_Beauty.json` (contains metadata like brand, price, category)\n",
    "- Each file is read line by line and converted into a pandas DataFrame.\n",
    "- Finally, I exported each DataFrame to a CSV for easier handling and merging later.\n",
    "\n",
    "This step transforms the semi-structured JSON format into CSV format.\n"
   ]
  },
  {
   "cell_type": "code",
   "execution_count": 304,
   "id": "77f23f5e-800a-4f2e-a246-9a0ed038174c",
   "metadata": {},
   "outputs": [],
   "source": [
    "json_path = '/Users/adithibalajee/Downloads/All_Beauty.json'\n",
    "json_path2 = '/Users/adithibalajee/Downloads/meta_All_Beauty.json'"
   ]
  },
  {
   "cell_type": "code",
   "execution_count": 305,
   "id": "07e28308",
   "metadata": {},
   "outputs": [
    {
     "name": "stdout",
     "output_type": "stream",
     "text": [
      "Successfully saved to All_Beauty_5.csv\n"
     ]
    }
   ],
   "source": [
    "with open(json_path, 'r') as file:\n",
    "    data = [json.loads(line) for line in file]\n",
    "\n",
    "# Convert to DataFrame\n",
    "dfONE = pd.DataFrame(data)\n",
    "\n",
    "# Save to CSV\n",
    "dfONE.to_csv('All_Beauty_5_Review.csv', index=False)\n",
    "\n",
    "print(\"Successfully saved to All_Beauty_5.csv\")\n"
   ]
  },
  {
   "cell_type": "markdown",
   "id": "d11aec9e-7cdc-4625-ab35-3ce012712027",
   "metadata": {},
   "source": [
    "- The is the same code as prior, but is called on the metadata file, and then saved to a csv, so I can easily merge the files.\n",
    "- The metadata file is now a csv, and saved to a CSV. \n"
   ]
  },
  {
   "cell_type": "code",
   "execution_count": 297,
   "id": "a8d577c8",
   "metadata": {},
   "outputs": [
    {
     "name": "stdout",
     "output_type": "stream",
     "text": [
      "Successfully saved to All_Beauty_5_metadata.csv\n"
     ]
    }
   ],
   "source": [
    "with open(json_path2, 'r') as file:\n",
    "    data = [json.loads(line) for line in file]\n",
    "\n",
    "# Convert to DataFrame\n",
    "dfTWO = pd.DataFrame(data)\n",
    "\n",
    "# Save to CSV\n",
    "dfTWO.to_csv('All_Beauty_5_metadata.csv', index=False)\n",
    "\n",
    "print(\"Successfully saved to All_Beauty_5_metadata.csv\")\n"
   ]
  },
  {
   "cell_type": "markdown",
   "id": "5ac769bd-b12f-4086-aa10-575ab66b9f9d",
   "metadata": {},
   "source": [
    "- Now, I performed a set opeation to see which columns are shared in both of the CSV files, so I can use that column as the key to merge on. "
   ]
  },
  {
   "cell_type": "code",
   "execution_count": 312,
   "id": "95d849e5-237d-44b3-bf48-4d3a2266cd65",
   "metadata": {},
   "outputs": [
    {
     "data": {
      "text/plain": [
       "['asin']"
      ]
     },
     "execution_count": 312,
     "metadata": {},
     "output_type": "execute_result"
    }
   ],
   "source": [
    "list(set(dfONE.columns) & set(dfTWO.columns))"
   ]
  },
  {
   "cell_type": "markdown",
   "id": "32bce048-821e-48dc-9b1a-dc21aeacfd98",
   "metadata": {},
   "source": [
    "## Step 3: Merge the Review Data with Metadata\n",
    "\n",
    "- Now that we have two clean CSVs, I merged them on the common column `asin`, which acts as the unique product ID.\n",
    "- We perform an inner join so that only records with matching review and metadata entries are retained.\n",
    "- The merged file `All_Beauty_5_merged.csv` contains both review content and product details.\n"
   ]
  },
  {
   "cell_type": "code",
   "execution_count": 314,
   "id": "67877fd8",
   "metadata": {},
   "outputs": [
    {
     "name": "stderr",
     "output_type": "stream",
     "text": [
      "/var/folders/k7/6ch_rrvj2x95fb13z7tcqvd80000gn/T/ipykernel_3741/2151243820.py:2: DtypeWarning: Columns (1,14) have mixed types. Specify dtype option on import or set low_memory=False.\n",
      "  metadata_df = pd.read_csv('All_Beauty_5_metadata.csv')\n"
     ]
    },
    {
     "name": "stdout",
     "output_type": "stream",
     "text": [
      "Successfully merged and saved as All_Beauty_5_merged.csv\n"
     ]
    }
   ],
   "source": [
    "reviews_df = pd.read_csv('All_Beauty_5.csv')\n",
    "metadata_df = pd.read_csv('All_Beauty_5_metadata.csv')\n",
    "\n",
    "# Merge on 'asin'\n",
    "dfOG = pd.merge(reviews_df, metadata_df, on='asin', how='inner')\n",
    "\n",
    "# Save the merged data\n",
    "dfOG.to_csv('All_Beauty_5_merged.csv', index=False)\n",
    "\n",
    "print(\"Successfully merged and saved as All_Beauty_5_merged.csv\")\n"
   ]
  },
  {
   "cell_type": "code",
   "execution_count": 325,
   "id": "743e9b71",
   "metadata": {},
   "outputs": [
    {
     "data": {
      "text/html": [
       "<div>\n",
       "<style scoped>\n",
       "    .dataframe tbody tr th:only-of-type {\n",
       "        vertical-align: middle;\n",
       "    }\n",
       "\n",
       "    .dataframe tbody tr th {\n",
       "        vertical-align: top;\n",
       "    }\n",
       "\n",
       "    .dataframe thead th {\n",
       "        text-align: right;\n",
       "    }\n",
       "</style>\n",
       "<table border=\"1\" class=\"dataframe\">\n",
       "  <thead>\n",
       "    <tr style=\"text-align: right;\">\n",
       "      <th></th>\n",
       "      <th>overall</th>\n",
       "      <th>unixReviewTime</th>\n",
       "      <th>fit</th>\n",
       "      <th>tech2</th>\n",
       "    </tr>\n",
       "  </thead>\n",
       "  <tbody>\n",
       "    <tr>\n",
       "      <th>count</th>\n",
       "      <td>5767.000000</td>\n",
       "      <td>5.767000e+03</td>\n",
       "      <td>0.0</td>\n",
       "      <td>0.0</td>\n",
       "    </tr>\n",
       "    <tr>\n",
       "      <th>mean</th>\n",
       "      <td>4.770591</td>\n",
       "      <td>1.442242e+09</td>\n",
       "      <td>NaN</td>\n",
       "      <td>NaN</td>\n",
       "    </tr>\n",
       "    <tr>\n",
       "      <th>std</th>\n",
       "      <td>0.751169</td>\n",
       "      <td>5.440093e+07</td>\n",
       "      <td>NaN</td>\n",
       "      <td>NaN</td>\n",
       "    </tr>\n",
       "    <tr>\n",
       "      <th>min</th>\n",
       "      <td>1.000000</td>\n",
       "      <td>1.095725e+09</td>\n",
       "      <td>NaN</td>\n",
       "      <td>NaN</td>\n",
       "    </tr>\n",
       "    <tr>\n",
       "      <th>25%</th>\n",
       "      <td>5.000000</td>\n",
       "      <td>1.407586e+09</td>\n",
       "      <td>NaN</td>\n",
       "      <td>NaN</td>\n",
       "    </tr>\n",
       "    <tr>\n",
       "      <th>50%</th>\n",
       "      <td>5.000000</td>\n",
       "      <td>1.447114e+09</td>\n",
       "      <td>NaN</td>\n",
       "      <td>NaN</td>\n",
       "    </tr>\n",
       "    <tr>\n",
       "      <th>75%</th>\n",
       "      <td>5.000000</td>\n",
       "      <td>1.481674e+09</td>\n",
       "      <td>NaN</td>\n",
       "      <td>NaN</td>\n",
       "    </tr>\n",
       "    <tr>\n",
       "      <th>max</th>\n",
       "      <td>5.000000</td>\n",
       "      <td>1.534982e+09</td>\n",
       "      <td>NaN</td>\n",
       "      <td>NaN</td>\n",
       "    </tr>\n",
       "  </tbody>\n",
       "</table>\n",
       "</div>"
      ],
      "text/plain": [
       "           overall  unixReviewTime  fit  tech2\n",
       "count  5767.000000    5.767000e+03  0.0    0.0\n",
       "mean      4.770591    1.442242e+09  NaN    NaN\n",
       "std       0.751169    5.440093e+07  NaN    NaN\n",
       "min       1.000000    1.095725e+09  NaN    NaN\n",
       "25%       5.000000    1.407586e+09  NaN    NaN\n",
       "50%       5.000000    1.447114e+09  NaN    NaN\n",
       "75%       5.000000    1.481674e+09  NaN    NaN\n",
       "max       5.000000    1.534982e+09  NaN    NaN"
      ]
     },
     "execution_count": 325,
     "metadata": {},
     "output_type": "execute_result"
    }
   ],
   "source": [
    "dfOG.describe()"
   ]
  },
  {
   "cell_type": "code",
   "execution_count": 330,
   "id": "1a34ecac",
   "metadata": {
    "scrolled": true
   },
   "outputs": [
    {
     "data": {
      "text/plain": [
       "Index(['overall', 'verified', 'reviewTime', 'reviewerID', 'asin', 'style',\n",
       "       'reviewerName', 'reviewText', 'summary', 'unixReviewTime', 'vote',\n",
       "       'image', 'category', 'tech1', 'description', 'fit', 'title', 'also_buy',\n",
       "       'tech2', 'brand', 'feature', 'rank', 'also_view', 'details', 'main_cat',\n",
       "       'similar_item', 'date', 'price', 'imageURL', 'imageURLHighRes'],\n",
       "      dtype='object')"
      ]
     },
     "execution_count": 330,
     "metadata": {},
     "output_type": "execute_result"
    }
   ],
   "source": [
    "dfOG.columns"
   ]
  },
  {
   "cell_type": "code",
   "execution_count": 332,
   "id": "5b72513d",
   "metadata": {},
   "outputs": [
    {
     "data": {
      "text/plain": [
       "(5767, 30)"
      ]
     },
     "execution_count": 332,
     "metadata": {},
     "output_type": "execute_result"
    }
   ],
   "source": [
    "dfOG.shape"
   ]
  },
  {
   "cell_type": "code",
   "execution_count": 334,
   "id": "313e09dc",
   "metadata": {
    "scrolled": true
   },
   "outputs": [
    {
     "data": {
      "text/plain": [
       "overall              int64\n",
       "verified              bool\n",
       "reviewTime          object\n",
       "reviewerID          object\n",
       "asin                object\n",
       "style               object\n",
       "reviewerName        object\n",
       "reviewText          object\n",
       "summary             object\n",
       "unixReviewTime       int64\n",
       "vote                object\n",
       "image               object\n",
       "category            object\n",
       "tech1               object\n",
       "description         object\n",
       "fit                float64\n",
       "title               object\n",
       "also_buy            object\n",
       "tech2              float64\n",
       "brand               object\n",
       "feature             object\n",
       "rank                object\n",
       "also_view           object\n",
       "details             object\n",
       "main_cat            object\n",
       "similar_item        object\n",
       "date                object\n",
       "price               object\n",
       "imageURL            object\n",
       "imageURLHighRes     object\n",
       "dtype: object"
      ]
     },
     "execution_count": 334,
     "metadata": {},
     "output_type": "execute_result"
    }
   ],
   "source": [
    "dfOG.dtypes"
   ]
  },
  {
   "cell_type": "code",
   "execution_count": 318,
   "id": "864e2dc6",
   "metadata": {
    "scrolled": true
   },
   "outputs": [
    {
     "data": {
      "text/html": [
       "<div>\n",
       "<style scoped>\n",
       "    .dataframe tbody tr th:only-of-type {\n",
       "        vertical-align: middle;\n",
       "    }\n",
       "\n",
       "    .dataframe tbody tr th {\n",
       "        vertical-align: top;\n",
       "    }\n",
       "\n",
       "    .dataframe thead th {\n",
       "        text-align: right;\n",
       "    }\n",
       "</style>\n",
       "<table border=\"1\" class=\"dataframe\">\n",
       "  <thead>\n",
       "    <tr style=\"text-align: right;\">\n",
       "      <th></th>\n",
       "      <th>overall</th>\n",
       "      <th>verified</th>\n",
       "      <th>reviewTime</th>\n",
       "      <th>reviewerID</th>\n",
       "      <th>asin</th>\n",
       "      <th>style</th>\n",
       "      <th>reviewerName</th>\n",
       "      <th>reviewText</th>\n",
       "      <th>summary</th>\n",
       "      <th>unixReviewTime</th>\n",
       "      <th>...</th>\n",
       "      <th>feature</th>\n",
       "      <th>rank</th>\n",
       "      <th>also_view</th>\n",
       "      <th>details</th>\n",
       "      <th>main_cat</th>\n",
       "      <th>similar_item</th>\n",
       "      <th>date</th>\n",
       "      <th>price</th>\n",
       "      <th>imageURL</th>\n",
       "      <th>imageURLHighRes</th>\n",
       "    </tr>\n",
       "  </thead>\n",
       "  <tbody>\n",
       "    <tr>\n",
       "      <th>0</th>\n",
       "      <td>5</td>\n",
       "      <td>True</td>\n",
       "      <td>09 1, 2016</td>\n",
       "      <td>A3CIUOJXQ5VDQ2</td>\n",
       "      <td>B0000530HU</td>\n",
       "      <td>{'Size:': ' 7.0 oz', 'Flavor:': ' Classic Ice ...</td>\n",
       "      <td>Shelly F</td>\n",
       "      <td>As advertised. Reasonably priced</td>\n",
       "      <td>Five Stars</td>\n",
       "      <td>1472688000</td>\n",
       "      <td>...</td>\n",
       "      <td>[]</td>\n",
       "      <td>65,003 in Beauty &amp; Personal Care (</td>\n",
       "      <td>['B01I9TIY1U', 'B07L1PZCS7', 'B01N12C89Y', 'B0...</td>\n",
       "      <td>{'\\n    Product Dimensions: \\n    ': '3 x 4 x ...</td>\n",
       "      <td>All Beauty</td>\n",
       "      <td>NaN</td>\n",
       "      <td>NaN</td>\n",
       "      <td>NaN</td>\n",
       "      <td>['https://images-na.ssl-images-amazon.com/imag...</td>\n",
       "      <td>['https://images-na.ssl-images-amazon.com/imag...</td>\n",
       "    </tr>\n",
       "    <tr>\n",
       "      <th>1</th>\n",
       "      <td>5</td>\n",
       "      <td>True</td>\n",
       "      <td>09 1, 2016</td>\n",
       "      <td>A3CIUOJXQ5VDQ2</td>\n",
       "      <td>B0000530HU</td>\n",
       "      <td>{'Size:': ' 7.0 oz', 'Flavor:': ' Classic Ice ...</td>\n",
       "      <td>Shelly F</td>\n",
       "      <td>As advertised. Reasonably priced</td>\n",
       "      <td>Five Stars</td>\n",
       "      <td>1472688000</td>\n",
       "      <td>...</td>\n",
       "      <td>[]</td>\n",
       "      <td>65,003 in Beauty &amp; Personal Care (</td>\n",
       "      <td>['B01I9TIY1U', 'B07L1PZCS7', 'B01N12C89Y', 'B0...</td>\n",
       "      <td>{'\\n    Product Dimensions: \\n    ': '3 x 4 x ...</td>\n",
       "      <td>All Beauty</td>\n",
       "      <td>NaN</td>\n",
       "      <td>NaN</td>\n",
       "      <td>NaN</td>\n",
       "      <td>['https://images-na.ssl-images-amazon.com/imag...</td>\n",
       "      <td>['https://images-na.ssl-images-amazon.com/imag...</td>\n",
       "    </tr>\n",
       "    <tr>\n",
       "      <th>2</th>\n",
       "      <td>5</td>\n",
       "      <td>True</td>\n",
       "      <td>11 14, 2013</td>\n",
       "      <td>A3H7T87S984REU</td>\n",
       "      <td>B0000530HU</td>\n",
       "      <td>{'Size:': ' 7.0 oz', 'Flavor:': ' Classic Ice ...</td>\n",
       "      <td>houserules18</td>\n",
       "      <td>Like the oder and the feel when I put it on my...</td>\n",
       "      <td>Good for the face</td>\n",
       "      <td>1384387200</td>\n",
       "      <td>...</td>\n",
       "      <td>[]</td>\n",
       "      <td>65,003 in Beauty &amp; Personal Care (</td>\n",
       "      <td>['B01I9TIY1U', 'B07L1PZCS7', 'B01N12C89Y', 'B0...</td>\n",
       "      <td>{'\\n    Product Dimensions: \\n    ': '3 x 4 x ...</td>\n",
       "      <td>All Beauty</td>\n",
       "      <td>NaN</td>\n",
       "      <td>NaN</td>\n",
       "      <td>NaN</td>\n",
       "      <td>['https://images-na.ssl-images-amazon.com/imag...</td>\n",
       "      <td>['https://images-na.ssl-images-amazon.com/imag...</td>\n",
       "    </tr>\n",
       "    <tr>\n",
       "      <th>3</th>\n",
       "      <td>5</td>\n",
       "      <td>True</td>\n",
       "      <td>11 14, 2013</td>\n",
       "      <td>A3H7T87S984REU</td>\n",
       "      <td>B0000530HU</td>\n",
       "      <td>{'Size:': ' 7.0 oz', 'Flavor:': ' Classic Ice ...</td>\n",
       "      <td>houserules18</td>\n",
       "      <td>Like the oder and the feel when I put it on my...</td>\n",
       "      <td>Good for the face</td>\n",
       "      <td>1384387200</td>\n",
       "      <td>...</td>\n",
       "      <td>[]</td>\n",
       "      <td>65,003 in Beauty &amp; Personal Care (</td>\n",
       "      <td>['B01I9TIY1U', 'B07L1PZCS7', 'B01N12C89Y', 'B0...</td>\n",
       "      <td>{'\\n    Product Dimensions: \\n    ': '3 x 4 x ...</td>\n",
       "      <td>All Beauty</td>\n",
       "      <td>NaN</td>\n",
       "      <td>NaN</td>\n",
       "      <td>NaN</td>\n",
       "      <td>['https://images-na.ssl-images-amazon.com/imag...</td>\n",
       "      <td>['https://images-na.ssl-images-amazon.com/imag...</td>\n",
       "    </tr>\n",
       "    <tr>\n",
       "      <th>4</th>\n",
       "      <td>1</td>\n",
       "      <td>True</td>\n",
       "      <td>08 18, 2013</td>\n",
       "      <td>A3J034YH7UG4KT</td>\n",
       "      <td>B0000530HU</td>\n",
       "      <td>{'Size:': ' 7.0 oz', 'Flavor:': ' Classic Ice ...</td>\n",
       "      <td>Adam</td>\n",
       "      <td>I bought this to smell nice after I shave.  Wh...</td>\n",
       "      <td>Smells awful</td>\n",
       "      <td>1376784000</td>\n",
       "      <td>...</td>\n",
       "      <td>[]</td>\n",
       "      <td>65,003 in Beauty &amp; Personal Care (</td>\n",
       "      <td>['B01I9TIY1U', 'B07L1PZCS7', 'B01N12C89Y', 'B0...</td>\n",
       "      <td>{'\\n    Product Dimensions: \\n    ': '3 x 4 x ...</td>\n",
       "      <td>All Beauty</td>\n",
       "      <td>NaN</td>\n",
       "      <td>NaN</td>\n",
       "      <td>NaN</td>\n",
       "      <td>['https://images-na.ssl-images-amazon.com/imag...</td>\n",
       "      <td>['https://images-na.ssl-images-amazon.com/imag...</td>\n",
       "    </tr>\n",
       "  </tbody>\n",
       "</table>\n",
       "<p>5 rows × 30 columns</p>\n",
       "</div>"
      ],
      "text/plain": [
       "   overall  verified   reviewTime      reviewerID        asin  \\\n",
       "0        5      True   09 1, 2016  A3CIUOJXQ5VDQ2  B0000530HU   \n",
       "1        5      True   09 1, 2016  A3CIUOJXQ5VDQ2  B0000530HU   \n",
       "2        5      True  11 14, 2013  A3H7T87S984REU  B0000530HU   \n",
       "3        5      True  11 14, 2013  A3H7T87S984REU  B0000530HU   \n",
       "4        1      True  08 18, 2013  A3J034YH7UG4KT  B0000530HU   \n",
       "\n",
       "                                               style  reviewerName  \\\n",
       "0  {'Size:': ' 7.0 oz', 'Flavor:': ' Classic Ice ...      Shelly F   \n",
       "1  {'Size:': ' 7.0 oz', 'Flavor:': ' Classic Ice ...      Shelly F   \n",
       "2  {'Size:': ' 7.0 oz', 'Flavor:': ' Classic Ice ...  houserules18   \n",
       "3  {'Size:': ' 7.0 oz', 'Flavor:': ' Classic Ice ...  houserules18   \n",
       "4  {'Size:': ' 7.0 oz', 'Flavor:': ' Classic Ice ...          Adam   \n",
       "\n",
       "                                          reviewText            summary  \\\n",
       "0                   As advertised. Reasonably priced         Five Stars   \n",
       "1                   As advertised. Reasonably priced         Five Stars   \n",
       "2  Like the oder and the feel when I put it on my...  Good for the face   \n",
       "3  Like the oder and the feel when I put it on my...  Good for the face   \n",
       "4  I bought this to smell nice after I shave.  Wh...       Smells awful   \n",
       "\n",
       "   unixReviewTime  ... feature                                rank  \\\n",
       "0      1472688000  ...      []  65,003 in Beauty & Personal Care (   \n",
       "1      1472688000  ...      []  65,003 in Beauty & Personal Care (   \n",
       "2      1384387200  ...      []  65,003 in Beauty & Personal Care (   \n",
       "3      1384387200  ...      []  65,003 in Beauty & Personal Care (   \n",
       "4      1376784000  ...      []  65,003 in Beauty & Personal Care (   \n",
       "\n",
       "                                           also_view  \\\n",
       "0  ['B01I9TIY1U', 'B07L1PZCS7', 'B01N12C89Y', 'B0...   \n",
       "1  ['B01I9TIY1U', 'B07L1PZCS7', 'B01N12C89Y', 'B0...   \n",
       "2  ['B01I9TIY1U', 'B07L1PZCS7', 'B01N12C89Y', 'B0...   \n",
       "3  ['B01I9TIY1U', 'B07L1PZCS7', 'B01N12C89Y', 'B0...   \n",
       "4  ['B01I9TIY1U', 'B07L1PZCS7', 'B01N12C89Y', 'B0...   \n",
       "\n",
       "                                             details    main_cat  \\\n",
       "0  {'\\n    Product Dimensions: \\n    ': '3 x 4 x ...  All Beauty   \n",
       "1  {'\\n    Product Dimensions: \\n    ': '3 x 4 x ...  All Beauty   \n",
       "2  {'\\n    Product Dimensions: \\n    ': '3 x 4 x ...  All Beauty   \n",
       "3  {'\\n    Product Dimensions: \\n    ': '3 x 4 x ...  All Beauty   \n",
       "4  {'\\n    Product Dimensions: \\n    ': '3 x 4 x ...  All Beauty   \n",
       "\n",
       "   similar_item date price                                           imageURL  \\\n",
       "0           NaN  NaN   NaN  ['https://images-na.ssl-images-amazon.com/imag...   \n",
       "1           NaN  NaN   NaN  ['https://images-na.ssl-images-amazon.com/imag...   \n",
       "2           NaN  NaN   NaN  ['https://images-na.ssl-images-amazon.com/imag...   \n",
       "3           NaN  NaN   NaN  ['https://images-na.ssl-images-amazon.com/imag...   \n",
       "4           NaN  NaN   NaN  ['https://images-na.ssl-images-amazon.com/imag...   \n",
       "\n",
       "                                     imageURLHighRes  \n",
       "0  ['https://images-na.ssl-images-amazon.com/imag...  \n",
       "1  ['https://images-na.ssl-images-amazon.com/imag...  \n",
       "2  ['https://images-na.ssl-images-amazon.com/imag...  \n",
       "3  ['https://images-na.ssl-images-amazon.com/imag...  \n",
       "4  ['https://images-na.ssl-images-amazon.com/imag...  \n",
       "\n",
       "[5 rows x 30 columns]"
      ]
     },
     "execution_count": 318,
     "metadata": {},
     "output_type": "execute_result"
    }
   ],
   "source": [
    "dfOG.head()    "
   ]
  },
  {
   "cell_type": "code",
   "execution_count": 26,
   "id": "24ede111",
   "metadata": {
    "scrolled": true
   },
   "outputs": [
    {
     "data": {
      "text/html": [
       "<div>\n",
       "<style scoped>\n",
       "    .dataframe tbody tr th:only-of-type {\n",
       "        vertical-align: middle;\n",
       "    }\n",
       "\n",
       "    .dataframe tbody tr th {\n",
       "        vertical-align: top;\n",
       "    }\n",
       "\n",
       "    .dataframe thead th {\n",
       "        text-align: right;\n",
       "    }\n",
       "</style>\n",
       "<table border=\"1\" class=\"dataframe\">\n",
       "  <thead>\n",
       "    <tr style=\"text-align: right;\">\n",
       "      <th></th>\n",
       "      <th>overall</th>\n",
       "      <th>verified</th>\n",
       "      <th>reviewTime</th>\n",
       "      <th>reviewerID</th>\n",
       "      <th>asin</th>\n",
       "      <th>style</th>\n",
       "      <th>reviewerName</th>\n",
       "      <th>reviewText</th>\n",
       "      <th>summary</th>\n",
       "      <th>unixReviewTime</th>\n",
       "      <th>...</th>\n",
       "      <th>feature</th>\n",
       "      <th>rank</th>\n",
       "      <th>also_view</th>\n",
       "      <th>details</th>\n",
       "      <th>main_cat</th>\n",
       "      <th>similar_item</th>\n",
       "      <th>date</th>\n",
       "      <th>price</th>\n",
       "      <th>imageURL</th>\n",
       "      <th>imageURLHighRes</th>\n",
       "    </tr>\n",
       "  </thead>\n",
       "  <tbody>\n",
       "    <tr>\n",
       "      <th>5762</th>\n",
       "      <td>5</td>\n",
       "      <td>True</td>\n",
       "      <td>08 23, 2018</td>\n",
       "      <td>AUX122XW8ONG6</td>\n",
       "      <td>B01DLR9IDI</td>\n",
       "      <td>{'Design:': ' ETA-C6B5F7C374'}</td>\n",
       "      <td>Amzon Customer</td>\n",
       "      <td>I have genetic undereye darkness. Ive accepted...</td>\n",
       "      <td>Pretty Sweet!!!</td>\n",
       "      <td>1534982400</td>\n",
       "      <td>...</td>\n",
       "      <td>[]</td>\n",
       "      <td>1,381,513 in Beauty &amp; Personal Care (</td>\n",
       "      <td>[]</td>\n",
       "      <td>{'ASIN: ': 'B01DLR9IDI', 'UPC:': '643070725246'}</td>\n",
       "      <td>All Beauty</td>\n",
       "      <td>NaN</td>\n",
       "      <td>NaN</td>\n",
       "      <td>NaN</td>\n",
       "      <td>['https://images-na.ssl-images-amazon.com/imag...</td>\n",
       "      <td>['https://images-na.ssl-images-amazon.com/imag...</td>\n",
       "    </tr>\n",
       "    <tr>\n",
       "      <th>5763</th>\n",
       "      <td>5</td>\n",
       "      <td>True</td>\n",
       "      <td>08 23, 2018</td>\n",
       "      <td>AUX122XW8ONG6</td>\n",
       "      <td>B01DLR9IDI</td>\n",
       "      <td>{'Design:': ' ETA-7117EE3788'}</td>\n",
       "      <td>Amzon Customer</td>\n",
       "      <td>I absolutely love this eye gel.</td>\n",
       "      <td>As advertised</td>\n",
       "      <td>1534982400</td>\n",
       "      <td>...</td>\n",
       "      <td>[]</td>\n",
       "      <td>1,381,513 in Beauty &amp; Personal Care (</td>\n",
       "      <td>[]</td>\n",
       "      <td>{'ASIN: ': 'B01DLR9IDI', 'UPC:': '643070725246'}</td>\n",
       "      <td>All Beauty</td>\n",
       "      <td>NaN</td>\n",
       "      <td>NaN</td>\n",
       "      <td>NaN</td>\n",
       "      <td>['https://images-na.ssl-images-amazon.com/imag...</td>\n",
       "      <td>['https://images-na.ssl-images-amazon.com/imag...</td>\n",
       "    </tr>\n",
       "    <tr>\n",
       "      <th>5764</th>\n",
       "      <td>5</td>\n",
       "      <td>True</td>\n",
       "      <td>08 23, 2018</td>\n",
       "      <td>AUX122XW8ONG6</td>\n",
       "      <td>B01DLR9IDI</td>\n",
       "      <td>{'Design:': ' ETA-BF66BD2F87'}</td>\n",
       "      <td>Amzon Customer</td>\n",
       "      <td>The eye gel is easy to apply and I use it morn...</td>\n",
       "      <td>I'm very happy with</td>\n",
       "      <td>1534982400</td>\n",
       "      <td>...</td>\n",
       "      <td>[]</td>\n",
       "      <td>1,381,513 in Beauty &amp; Personal Care (</td>\n",
       "      <td>[]</td>\n",
       "      <td>{'ASIN: ': 'B01DLR9IDI', 'UPC:': '643070725246'}</td>\n",
       "      <td>All Beauty</td>\n",
       "      <td>NaN</td>\n",
       "      <td>NaN</td>\n",
       "      <td>NaN</td>\n",
       "      <td>['https://images-na.ssl-images-amazon.com/imag...</td>\n",
       "      <td>['https://images-na.ssl-images-amazon.com/imag...</td>\n",
       "    </tr>\n",
       "    <tr>\n",
       "      <th>5765</th>\n",
       "      <td>5</td>\n",
       "      <td>True</td>\n",
       "      <td>08 23, 2018</td>\n",
       "      <td>AUX122XW8ONG6</td>\n",
       "      <td>B01DLR9IDI</td>\n",
       "      <td>{'Design:': ' ETA-03868FCB34'}</td>\n",
       "      <td>Amzon Customer</td>\n",
       "      <td>Ok this eye gel is good stuff.</td>\n",
       "      <td>Does it's thing!</td>\n",
       "      <td>1534982400</td>\n",
       "      <td>...</td>\n",
       "      <td>[]</td>\n",
       "      <td>1,381,513 in Beauty &amp; Personal Care (</td>\n",
       "      <td>[]</td>\n",
       "      <td>{'ASIN: ': 'B01DLR9IDI', 'UPC:': '643070725246'}</td>\n",
       "      <td>All Beauty</td>\n",
       "      <td>NaN</td>\n",
       "      <td>NaN</td>\n",
       "      <td>NaN</td>\n",
       "      <td>['https://images-na.ssl-images-amazon.com/imag...</td>\n",
       "      <td>['https://images-na.ssl-images-amazon.com/imag...</td>\n",
       "    </tr>\n",
       "    <tr>\n",
       "      <th>5766</th>\n",
       "      <td>5</td>\n",
       "      <td>True</td>\n",
       "      <td>08 23, 2018</td>\n",
       "      <td>AUX122XW8ONG6</td>\n",
       "      <td>B01DLR9IDI</td>\n",
       "      <td>{'Design:': ' ETA-C4893097E9'}</td>\n",
       "      <td>Amzon Customer</td>\n",
       "      <td>This is the first eye gel/cream that actually ...</td>\n",
       "      <td>Happy</td>\n",
       "      <td>1534982400</td>\n",
       "      <td>...</td>\n",
       "      <td>[]</td>\n",
       "      <td>1,381,513 in Beauty &amp; Personal Care (</td>\n",
       "      <td>[]</td>\n",
       "      <td>{'ASIN: ': 'B01DLR9IDI', 'UPC:': '643070725246'}</td>\n",
       "      <td>All Beauty</td>\n",
       "      <td>NaN</td>\n",
       "      <td>NaN</td>\n",
       "      <td>NaN</td>\n",
       "      <td>['https://images-na.ssl-images-amazon.com/imag...</td>\n",
       "      <td>['https://images-na.ssl-images-amazon.com/imag...</td>\n",
       "    </tr>\n",
       "  </tbody>\n",
       "</table>\n",
       "<p>5 rows × 30 columns</p>\n",
       "</div>"
      ],
      "text/plain": [
       "      overall  verified   reviewTime     reviewerID        asin  \\\n",
       "5762        5      True  08 23, 2018  AUX122XW8ONG6  B01DLR9IDI   \n",
       "5763        5      True  08 23, 2018  AUX122XW8ONG6  B01DLR9IDI   \n",
       "5764        5      True  08 23, 2018  AUX122XW8ONG6  B01DLR9IDI   \n",
       "5765        5      True  08 23, 2018  AUX122XW8ONG6  B01DLR9IDI   \n",
       "5766        5      True  08 23, 2018  AUX122XW8ONG6  B01DLR9IDI   \n",
       "\n",
       "                               style    reviewerName  \\\n",
       "5762  {'Design:': ' ETA-C6B5F7C374'}  Amzon Customer   \n",
       "5763  {'Design:': ' ETA-7117EE3788'}  Amzon Customer   \n",
       "5764  {'Design:': ' ETA-BF66BD2F87'}  Amzon Customer   \n",
       "5765  {'Design:': ' ETA-03868FCB34'}  Amzon Customer   \n",
       "5766  {'Design:': ' ETA-C4893097E9'}  Amzon Customer   \n",
       "\n",
       "                                             reviewText              summary  \\\n",
       "5762  I have genetic undereye darkness. Ive accepted...      Pretty Sweet!!!   \n",
       "5763                    I absolutely love this eye gel.        As advertised   \n",
       "5764  The eye gel is easy to apply and I use it morn...  I'm very happy with   \n",
       "5765                     Ok this eye gel is good stuff.     Does it's thing!   \n",
       "5766  This is the first eye gel/cream that actually ...                Happy   \n",
       "\n",
       "      unixReviewTime  ... feature                                   rank  \\\n",
       "5762      1534982400  ...      []  1,381,513 in Beauty & Personal Care (   \n",
       "5763      1534982400  ...      []  1,381,513 in Beauty & Personal Care (   \n",
       "5764      1534982400  ...      []  1,381,513 in Beauty & Personal Care (   \n",
       "5765      1534982400  ...      []  1,381,513 in Beauty & Personal Care (   \n",
       "5766      1534982400  ...      []  1,381,513 in Beauty & Personal Care (   \n",
       "\n",
       "     also_view                                           details    main_cat  \\\n",
       "5762        []  {'ASIN: ': 'B01DLR9IDI', 'UPC:': '643070725246'}  All Beauty   \n",
       "5763        []  {'ASIN: ': 'B01DLR9IDI', 'UPC:': '643070725246'}  All Beauty   \n",
       "5764        []  {'ASIN: ': 'B01DLR9IDI', 'UPC:': '643070725246'}  All Beauty   \n",
       "5765        []  {'ASIN: ': 'B01DLR9IDI', 'UPC:': '643070725246'}  All Beauty   \n",
       "5766        []  {'ASIN: ': 'B01DLR9IDI', 'UPC:': '643070725246'}  All Beauty   \n",
       "\n",
       "      similar_item date price  \\\n",
       "5762           NaN  NaN   NaN   \n",
       "5763           NaN  NaN   NaN   \n",
       "5764           NaN  NaN   NaN   \n",
       "5765           NaN  NaN   NaN   \n",
       "5766           NaN  NaN   NaN   \n",
       "\n",
       "                                               imageURL  \\\n",
       "5762  ['https://images-na.ssl-images-amazon.com/imag...   \n",
       "5763  ['https://images-na.ssl-images-amazon.com/imag...   \n",
       "5764  ['https://images-na.ssl-images-amazon.com/imag...   \n",
       "5765  ['https://images-na.ssl-images-amazon.com/imag...   \n",
       "5766  ['https://images-na.ssl-images-amazon.com/imag...   \n",
       "\n",
       "                                        imageURLHighRes  \n",
       "5762  ['https://images-na.ssl-images-amazon.com/imag...  \n",
       "5763  ['https://images-na.ssl-images-amazon.com/imag...  \n",
       "5764  ['https://images-na.ssl-images-amazon.com/imag...  \n",
       "5765  ['https://images-na.ssl-images-amazon.com/imag...  \n",
       "5766  ['https://images-na.ssl-images-amazon.com/imag...  \n",
       "\n",
       "[5 rows x 30 columns]"
      ]
     },
     "execution_count": 26,
     "metadata": {},
     "output_type": "execute_result"
    }
   ],
   "source": [
    "dfOG.tail()"
   ]
  },
  {
   "cell_type": "code",
   "execution_count": 339,
   "id": "86cccf15",
   "metadata": {
    "scrolled": true
   },
   "outputs": [
    {
     "name": "stdout",
     "output_type": "stream",
     "text": [
      "      overall  verified   reviewTime      reviewerID        asin  \\\n",
      "4749        5      True  09 14, 2017  A1U4MBURSADCDU  B001OHV1H4   \n",
      "3278        5      True  02 23, 2015  A3E1JS2EB8ZH94  B0012Y0ZG2   \n",
      "3579        5      True   10 8, 2012  A1SC0VA3U18WUP  B0012Y0ZG2   \n",
      "4929        5      True   03 7, 2016  A2XF4LU8DZCGKV  B001OHV1H4   \n",
      "3062        5      True  03 15, 2016  A3JOF3FISSE7E0  B0012Y0ZG2   \n",
      "\n",
      "                  style      reviewerName  \\\n",
      "4749   {'Size:': ' 29'}          roxy sox   \n",
      "3278   {'Size:': ' 10'}             trace   \n",
      "3579  {'Size:': ' 261'}           Ica2284   \n",
      "4929  {'Size:': ' 169'}        Sparkle528   \n",
      "3062   {'Size:': ' 15'}  Catherine Daniel   \n",
      "\n",
      "                                             reviewText  \\\n",
      "4749                                  love this shampoo   \n",
      "3278  I really like this wash and was feeling lazy s...   \n",
      "3579  I am a huge fan of Molton Brown products, espe...   \n",
      "4929  Although it's pretty long, it fits perfectly. ...   \n",
      "3062  makes hair fuller and is gentle on scalp.  hai...   \n",
      "\n",
      "                                                summary  unixReviewTime  ...  \\\n",
      "4749                                         Five Stars      1505347200  ...   \n",
      "3278  I really like this wash and was feeling lazy s...      1424649600  ...   \n",
      "3579                                         Perfection      1349654400  ...   \n",
      "4929                                   Love the labcoat      1457308800  ...   \n",
      "3062                                         Five Stars      1458000000  ...   \n",
      "\n",
      "     feature                                   rank also_view  \\\n",
      "4749      []    643,961 in Beauty & Personal Care (        []   \n",
      "3278      []  1,279,015 in Beauty & Personal Care (        []   \n",
      "3579      []  1,279,015 in Beauty & Personal Care (        []   \n",
      "4929      []    643,961 in Beauty & Personal Care (        []   \n",
      "3062      []  1,279,015 in Beauty & Personal Care (        []   \n",
      "\n",
      "                                                details    main_cat  \\\n",
      "4749  {'\\n    Product Dimensions: \\n    ': '7.2 x 3 ...  All Beauty   \n",
      "3278  {'\\n    Item Weight: \\n    ': '8.5 ounces', 'S...  All Beauty   \n",
      "3579  {'\\n    Item Weight: \\n    ': '8.5 ounces', 'S...  All Beauty   \n",
      "4929  {'\\n    Product Dimensions: \\n    ': '7.2 x 3 ...  All Beauty   \n",
      "3062  {'\\n    Item Weight: \\n    ': '8.5 ounces', 'S...  All Beauty   \n",
      "\n",
      "      similar_item date price  \\\n",
      "4749           NaN  NaN   NaN   \n",
      "3278           NaN  NaN   NaN   \n",
      "3579           NaN  NaN   NaN   \n",
      "4929           NaN  NaN   NaN   \n",
      "3062           NaN  NaN   NaN   \n",
      "\n",
      "                                               imageURL  \\\n",
      "4749  ['https://images-na.ssl-images-amazon.com/imag...   \n",
      "3278                                                 []   \n",
      "3579                                                 []   \n",
      "4929  ['https://images-na.ssl-images-amazon.com/imag...   \n",
      "3062                                                 []   \n",
      "\n",
      "                                        imageURLHighRes  \n",
      "4749  ['https://images-na.ssl-images-amazon.com/imag...  \n",
      "3278                                                 []  \n",
      "3579                                                 []  \n",
      "4929  ['https://images-na.ssl-images-amazon.com/imag...  \n",
      "3062                                                 []  \n",
      "\n",
      "[5 rows x 30 columns]\n"
     ]
    }
   ],
   "source": [
    "print(dfOG.sample(5))"
   ]
  },
  {
   "cell_type": "code",
   "execution_count": 341,
   "id": "56a2c582-3778-4c57-b5c9-424c4443cf5c",
   "metadata": {},
   "outputs": [],
   "source": [
    "df = dfOG.copy()"
   ]
  },
  {
   "cell_type": "markdown",
   "id": "7540ff15-ad50-48dc-9ae7-bf39a9163472",
   "metadata": {},
   "source": [
    "## Cleaning the Data"
   ]
  },
  {
   "cell_type": "markdown",
   "id": "625f1b95-f4e0-43d3-b569-86a77f4db5ef",
   "metadata": {},
   "source": [
    "### After reviewing the CSV file, I noticed that there are many duplicate entries. Instead of redoing the join, I decided to clean them here, for convinience and efficiency, as there were no duplicates prior to merging. Finding the cause would be more difficult, and this is an easier fix. \n",
    "\n",
    "## 1. Remove Duplicate Rows\n",
    "\n",
    "- Eliminate repeated entries in the dataset to avoid redundancy.\n",
    "- Merged data contains repeated reviews or product records, can skew \n",
    "\n"
   ]
  },
  {
   "cell_type": "code",
   "execution_count": 342,
   "id": "dfbcfbd1-2d82-42cd-a0fd-2cfdea3bbd38",
   "metadata": {},
   "outputs": [],
   "source": [
    "df = df.drop_duplicates()"
   ]
  },
  {
   "cell_type": "markdown",
   "id": "107786cd-055b-4a3e-b2a4-fcac1b905eba",
   "metadata": {},
   "source": [
    "## 2. Standardize Column Names\n",
    "\n",
    "- Strip leading/trailing spaces and convert all column names to lowercase.\n",
    "- This simplifies downstream operations by avoiding mismatches due to inconsistent capitalization or spacing.\n",
    "\n"
   ]
  },
  {
   "cell_type": "code",
   "execution_count": 345,
   "id": "d2d8db1c-b98e-4e78-9c2b-a102d01c523a",
   "metadata": {},
   "outputs": [],
   "source": [
    "df.columns = df.columns.str.strip().str.lower()\n"
   ]
  },
  {
   "cell_type": "markdown",
   "id": "d2c5db8a-7399-44b2-a2af-fad1ff9efc17",
   "metadata": {},
   "source": [
    "## 3. Convert 'reviewtime' Column to Datetime\n",
    "\n",
    "- This allows for time-series operations, filtering by date, or extracting time-based insights.\n",
    "- Any unparseable dates will be safely set to `NaT` (Not a Time) using `errors='coerce'`.\n",
    "\n"
   ]
  },
  {
   "cell_type": "code",
   "execution_count": 346,
   "id": "ed47b961-6ed6-4866-8fb3-e0d1fa788556",
   "metadata": {},
   "outputs": [],
   "source": [
    "df['reviewtime'] = pd.to_datetime(df['reviewtime'], errors='coerce')\n"
   ]
  },
  {
   "cell_type": "markdown",
   "id": "f9c96593-1a19-440f-a1cf-3cda0392c1c4",
   "metadata": {},
   "source": [
    "## 4. Drop Columns With Over 90% Missing Values\n",
    "\n",
    "- Remove columns that contain mostly null values.\n",
    "- These are typically not useful for analysis and may cause issues in modeling or visualization.\n",
    "\n"
   ]
  },
  {
   "cell_type": "code",
   "execution_count": 347,
   "id": "50fba07d-7968-43fc-b99f-b9effc6d1194",
   "metadata": {},
   "outputs": [],
   "source": [
    "threshold = len(df) * 0.9\n",
    "df = df.dropna(axis=1, thresh=threshold)\n"
   ]
  },
  {
   "cell_type": "markdown",
   "id": "be20e6a8-1eb2-4a66-a03c-8fcb7f56040a",
   "metadata": {},
   "source": [
    "## 5. Fill Missing Values in Text Columns\n",
    "\n",
    "- Replace NaNs in string/object columns with an empty string `\"\"`.\n",
    "- This prevents runtime errors during string operations like `.str.contains()` or `.apply()`.\n",
    "\n"
   ]
  },
  {
   "cell_type": "code",
   "execution_count": 348,
   "id": "256dee1b-c1cc-4dab-bc72-66b39c1045fa",
   "metadata": {},
   "outputs": [],
   "source": [
    "text_cols = df.select_dtypes(include=['object']).columns\n",
    "df[text_cols] = df[text_cols].fillna(\"\")\n"
   ]
  },
  {
   "cell_type": "markdown",
   "id": "cb69dbb0-a320-487e-88ae-4b24435a8afd",
   "metadata": {},
   "source": [
    "## 7. Reset the Index\n",
    "\n",
    "- After row deletions or filtering, resetting the index ensures the DataFrame is tidy and avoids gaps or duplicate indices.\n",
    "\n"
   ]
  },
  {
   "cell_type": "code",
   "execution_count": 349,
   "id": "92533f0f-b427-48b7-81a3-65bc54227f37",
   "metadata": {},
   "outputs": [],
   "source": [
    "df.reset_index(drop=True, inplace=True)\n"
   ]
  },
  {
   "cell_type": "markdown",
   "id": "6daa9be4-6c28-4fb5-8661-8522ba009b1e",
   "metadata": {},
   "source": [
    "## 8. Save the Cleaned Dataset to a New CSV"
   ]
  },
  {
   "cell_type": "code",
   "execution_count": 350,
   "id": "4072b4cb-12fd-4007-bd1d-20a0c9e8a7d8",
   "metadata": {},
   "outputs": [],
   "source": [
    "df.to_csv(\"All_Beauty_5_cleaned.csv\", index=False)\n"
   ]
  },
  {
   "cell_type": "markdown",
   "id": "87d513dc-1683-427b-9de3-83247f5d8f74",
   "metadata": {},
   "source": [
    "### Data Cleaning Summary\n",
    "\n",
    "Before visualizing or analyzing the data, the following cleaning steps were performed to ensure accuracy:\n",
    "\n",
    "- Converted stringified date columns (`reviewtime`) to datetime format.\n",
    "- Extracted `review_year` for trend analysis.\n",
    "- Filled missing `reviewtext` fields to allow sentiment scoring.\n",
    "- Removed rows with missing or empty `brand` names.\n",
    "- Limited analysis to brands with 20+ reviews to ensure statistical reliability.\n",
    "\n",
    "Now, I will review the data to verify the cleaning. \n"
   ]
  },
  {
   "cell_type": "code",
   "execution_count": 357,
   "id": "3c567652-ed42-4e49-a0a4-ec047b30d68a",
   "metadata": {},
   "outputs": [
    {
     "name": "stdout",
     "output_type": "stream",
     "text": [
      "Initial row count: 4242\n",
      "After filtering empty brand names: 4168\n"
     ]
    }
   ],
   "source": [
    "# Show initial and cleaned row counts\n",
    "print(\"Initial row count:\", len(df))\n",
    "print(\"After filtering empty brand names:\", len(filtered_df))\n"
   ]
  },
  {
   "cell_type": "code",
   "execution_count": 358,
   "id": "92076553-de97-49e0-9dc0-955b885df609",
   "metadata": {},
   "outputs": [
    {
     "data": {
      "text/plain": [
       "overall            0\n",
       "verified           0\n",
       "reviewtime         0\n",
       "reviewerid         0\n",
       "asin               0\n",
       "reviewername       0\n",
       "reviewtext         0\n",
       "summary            0\n",
       "unixreviewtime     0\n",
       "category           0\n",
       "description        0\n",
       "title              0\n",
       "also_buy           0\n",
       "brand              0\n",
       "feature            0\n",
       "rank               0\n",
       "also_view          0\n",
       "details            0\n",
       "main_cat           0\n",
       "imageurl           0\n",
       "imageurlhighres    0\n",
       "dtype: int64"
      ]
     },
     "execution_count": 358,
     "metadata": {},
     "output_type": "execute_result"
    }
   ],
   "source": [
    "df.isna().sum() # verify there are no missing values"
   ]
  },
  {
   "cell_type": "code",
   "execution_count": 361,
   "id": "031793f9-f790-4568-bf71-9d8119db65fb",
   "metadata": {
    "scrolled": true
   },
   "outputs": [
    {
     "data": {
      "text/html": [
       "<div>\n",
       "<style scoped>\n",
       "    .dataframe tbody tr th:only-of-type {\n",
       "        vertical-align: middle;\n",
       "    }\n",
       "\n",
       "    .dataframe tbody tr th {\n",
       "        vertical-align: top;\n",
       "    }\n",
       "\n",
       "    .dataframe thead th {\n",
       "        text-align: right;\n",
       "    }\n",
       "</style>\n",
       "<table border=\"1\" class=\"dataframe\">\n",
       "  <thead>\n",
       "    <tr style=\"text-align: right;\">\n",
       "      <th></th>\n",
       "      <th>overall</th>\n",
       "      <th>verified</th>\n",
       "      <th>reviewtime</th>\n",
       "      <th>reviewerid</th>\n",
       "      <th>asin</th>\n",
       "      <th>reviewername</th>\n",
       "      <th>reviewtext</th>\n",
       "      <th>summary</th>\n",
       "      <th>unixreviewtime</th>\n",
       "      <th>category</th>\n",
       "      <th>...</th>\n",
       "      <th>title</th>\n",
       "      <th>also_buy</th>\n",
       "      <th>brand</th>\n",
       "      <th>feature</th>\n",
       "      <th>rank</th>\n",
       "      <th>also_view</th>\n",
       "      <th>details</th>\n",
       "      <th>main_cat</th>\n",
       "      <th>imageurl</th>\n",
       "      <th>imageurlhighres</th>\n",
       "    </tr>\n",
       "  </thead>\n",
       "  <tbody>\n",
       "    <tr>\n",
       "      <th>0</th>\n",
       "      <td>5</td>\n",
       "      <td>True</td>\n",
       "      <td>2016-09-01</td>\n",
       "      <td>A3CIUOJXQ5VDQ2</td>\n",
       "      <td>B0000530HU</td>\n",
       "      <td>Shelly F</td>\n",
       "      <td>As advertised. Reasonably priced</td>\n",
       "      <td>Five Stars</td>\n",
       "      <td>1472688000</td>\n",
       "      <td>[]</td>\n",
       "      <td>...</td>\n",
       "      <td>Aqua Velva After Shave, Classic Ice Blue, 7 Ounce</td>\n",
       "      <td>['B00J232PCM', 'B0010V5MKG', 'B000052Y68', 'B0...</td>\n",
       "      <td>Aqua Velva</td>\n",
       "      <td>[]</td>\n",
       "      <td>65,003 in Beauty &amp; Personal Care (</td>\n",
       "      <td>['B01I9TIY1U', 'B07L1PZCS7', 'B01N12C89Y', 'B0...</td>\n",
       "      <td>{'\\n    Product Dimensions: \\n    ': '3 x 4 x ...</td>\n",
       "      <td>All Beauty</td>\n",
       "      <td>['https://images-na.ssl-images-amazon.com/imag...</td>\n",
       "      <td>['https://images-na.ssl-images-amazon.com/imag...</td>\n",
       "    </tr>\n",
       "    <tr>\n",
       "      <th>1</th>\n",
       "      <td>5</td>\n",
       "      <td>True</td>\n",
       "      <td>2013-11-14</td>\n",
       "      <td>A3H7T87S984REU</td>\n",
       "      <td>B0000530HU</td>\n",
       "      <td>houserules18</td>\n",
       "      <td>Like the oder and the feel when I put it on my...</td>\n",
       "      <td>Good for the face</td>\n",
       "      <td>1384387200</td>\n",
       "      <td>[]</td>\n",
       "      <td>...</td>\n",
       "      <td>Aqua Velva After Shave, Classic Ice Blue, 7 Ounce</td>\n",
       "      <td>['B00J232PCM', 'B0010V5MKG', 'B000052Y68', 'B0...</td>\n",
       "      <td>Aqua Velva</td>\n",
       "      <td>[]</td>\n",
       "      <td>65,003 in Beauty &amp; Personal Care (</td>\n",
       "      <td>['B01I9TIY1U', 'B07L1PZCS7', 'B01N12C89Y', 'B0...</td>\n",
       "      <td>{'\\n    Product Dimensions: \\n    ': '3 x 4 x ...</td>\n",
       "      <td>All Beauty</td>\n",
       "      <td>['https://images-na.ssl-images-amazon.com/imag...</td>\n",
       "      <td>['https://images-na.ssl-images-amazon.com/imag...</td>\n",
       "    </tr>\n",
       "    <tr>\n",
       "      <th>2</th>\n",
       "      <td>1</td>\n",
       "      <td>True</td>\n",
       "      <td>2013-08-18</td>\n",
       "      <td>A3J034YH7UG4KT</td>\n",
       "      <td>B0000530HU</td>\n",
       "      <td>Adam</td>\n",
       "      <td>I bought this to smell nice after I shave.  Wh...</td>\n",
       "      <td>Smells awful</td>\n",
       "      <td>1376784000</td>\n",
       "      <td>[]</td>\n",
       "      <td>...</td>\n",
       "      <td>Aqua Velva After Shave, Classic Ice Blue, 7 Ounce</td>\n",
       "      <td>['B00J232PCM', 'B0010V5MKG', 'B000052Y68', 'B0...</td>\n",
       "      <td>Aqua Velva</td>\n",
       "      <td>[]</td>\n",
       "      <td>65,003 in Beauty &amp; Personal Care (</td>\n",
       "      <td>['B01I9TIY1U', 'B07L1PZCS7', 'B01N12C89Y', 'B0...</td>\n",
       "      <td>{'\\n    Product Dimensions: \\n    ': '3 x 4 x ...</td>\n",
       "      <td>All Beauty</td>\n",
       "      <td>['https://images-na.ssl-images-amazon.com/imag...</td>\n",
       "      <td>['https://images-na.ssl-images-amazon.com/imag...</td>\n",
       "    </tr>\n",
       "    <tr>\n",
       "      <th>3</th>\n",
       "      <td>5</td>\n",
       "      <td>False</td>\n",
       "      <td>2011-05-03</td>\n",
       "      <td>A2UEO5XR3598GI</td>\n",
       "      <td>B0000530HU</td>\n",
       "      <td>Rich K</td>\n",
       "      <td>HEY!! I am an Aqua Velva Man and absolutely lo...</td>\n",
       "      <td>Truth is There IS Nothing Like an AQUA VELVA MAN.</td>\n",
       "      <td>1304380800</td>\n",
       "      <td>[]</td>\n",
       "      <td>...</td>\n",
       "      <td>Aqua Velva After Shave, Classic Ice Blue, 7 Ounce</td>\n",
       "      <td>['B00J232PCM', 'B0010V5MKG', 'B000052Y68', 'B0...</td>\n",
       "      <td>Aqua Velva</td>\n",
       "      <td>[]</td>\n",
       "      <td>65,003 in Beauty &amp; Personal Care (</td>\n",
       "      <td>['B01I9TIY1U', 'B07L1PZCS7', 'B01N12C89Y', 'B0...</td>\n",
       "      <td>{'\\n    Product Dimensions: \\n    ': '3 x 4 x ...</td>\n",
       "      <td>All Beauty</td>\n",
       "      <td>['https://images-na.ssl-images-amazon.com/imag...</td>\n",
       "      <td>['https://images-na.ssl-images-amazon.com/imag...</td>\n",
       "    </tr>\n",
       "    <tr>\n",
       "      <th>4</th>\n",
       "      <td>5</td>\n",
       "      <td>True</td>\n",
       "      <td>2011-05-06</td>\n",
       "      <td>A3SFRT223XXWF7</td>\n",
       "      <td>B00006L9LC</td>\n",
       "      <td>C. C. Christian</td>\n",
       "      <td>If you ever want to feel pampered by a shampoo...</td>\n",
       "      <td>Bvlgari Shampoo</td>\n",
       "      <td>1304640000</td>\n",
       "      <td>[]</td>\n",
       "      <td>...</td>\n",
       "      <td>Citre Shine Moisture Burst Shampoo - 16 fl oz</td>\n",
       "      <td>['B07CSVCGZV', 'B07KMGC13Z', 'B0793XJ4WW', 'B0...</td>\n",
       "      <td>Citre Shine</td>\n",
       "      <td>[]</td>\n",
       "      <td>1,693,702 in Beauty &amp; Personal Care (</td>\n",
       "      <td>[]</td>\n",
       "      <td>{'ASIN: ': 'B00006L9LC', 'UPC:': '795827187965...</td>\n",
       "      <td>All Beauty</td>\n",
       "      <td>[]</td>\n",
       "      <td>[]</td>\n",
       "    </tr>\n",
       "  </tbody>\n",
       "</table>\n",
       "<p>5 rows × 21 columns</p>\n",
       "</div>"
      ],
      "text/plain": [
       "   overall  verified reviewtime      reviewerid        asin     reviewername  \\\n",
       "0        5      True 2016-09-01  A3CIUOJXQ5VDQ2  B0000530HU         Shelly F   \n",
       "1        5      True 2013-11-14  A3H7T87S984REU  B0000530HU     houserules18   \n",
       "2        1      True 2013-08-18  A3J034YH7UG4KT  B0000530HU             Adam   \n",
       "3        5     False 2011-05-03  A2UEO5XR3598GI  B0000530HU           Rich K   \n",
       "4        5      True 2011-05-06  A3SFRT223XXWF7  B00006L9LC  C. C. Christian   \n",
       "\n",
       "                                          reviewtext  \\\n",
       "0                   As advertised. Reasonably priced   \n",
       "1  Like the oder and the feel when I put it on my...   \n",
       "2  I bought this to smell nice after I shave.  Wh...   \n",
       "3  HEY!! I am an Aqua Velva Man and absolutely lo...   \n",
       "4  If you ever want to feel pampered by a shampoo...   \n",
       "\n",
       "                                             summary  unixreviewtime category  \\\n",
       "0                                         Five Stars      1472688000       []   \n",
       "1                                  Good for the face      1384387200       []   \n",
       "2                                       Smells awful      1376784000       []   \n",
       "3  Truth is There IS Nothing Like an AQUA VELVA MAN.      1304380800       []   \n",
       "4                                    Bvlgari Shampoo      1304640000       []   \n",
       "\n",
       "   ...                                              title  \\\n",
       "0  ...  Aqua Velva After Shave, Classic Ice Blue, 7 Ounce   \n",
       "1  ...  Aqua Velva After Shave, Classic Ice Blue, 7 Ounce   \n",
       "2  ...  Aqua Velva After Shave, Classic Ice Blue, 7 Ounce   \n",
       "3  ...  Aqua Velva After Shave, Classic Ice Blue, 7 Ounce   \n",
       "4  ...      Citre Shine Moisture Burst Shampoo - 16 fl oz   \n",
       "\n",
       "                                            also_buy        brand feature  \\\n",
       "0  ['B00J232PCM', 'B0010V5MKG', 'B000052Y68', 'B0...   Aqua Velva      []   \n",
       "1  ['B00J232PCM', 'B0010V5MKG', 'B000052Y68', 'B0...   Aqua Velva      []   \n",
       "2  ['B00J232PCM', 'B0010V5MKG', 'B000052Y68', 'B0...   Aqua Velva      []   \n",
       "3  ['B00J232PCM', 'B0010V5MKG', 'B000052Y68', 'B0...   Aqua Velva      []   \n",
       "4  ['B07CSVCGZV', 'B07KMGC13Z', 'B0793XJ4WW', 'B0...  Citre Shine      []   \n",
       "\n",
       "                                    rank  \\\n",
       "0     65,003 in Beauty & Personal Care (   \n",
       "1     65,003 in Beauty & Personal Care (   \n",
       "2     65,003 in Beauty & Personal Care (   \n",
       "3     65,003 in Beauty & Personal Care (   \n",
       "4  1,693,702 in Beauty & Personal Care (   \n",
       "\n",
       "                                           also_view  \\\n",
       "0  ['B01I9TIY1U', 'B07L1PZCS7', 'B01N12C89Y', 'B0...   \n",
       "1  ['B01I9TIY1U', 'B07L1PZCS7', 'B01N12C89Y', 'B0...   \n",
       "2  ['B01I9TIY1U', 'B07L1PZCS7', 'B01N12C89Y', 'B0...   \n",
       "3  ['B01I9TIY1U', 'B07L1PZCS7', 'B01N12C89Y', 'B0...   \n",
       "4                                                 []   \n",
       "\n",
       "                                             details    main_cat  \\\n",
       "0  {'\\n    Product Dimensions: \\n    ': '3 x 4 x ...  All Beauty   \n",
       "1  {'\\n    Product Dimensions: \\n    ': '3 x 4 x ...  All Beauty   \n",
       "2  {'\\n    Product Dimensions: \\n    ': '3 x 4 x ...  All Beauty   \n",
       "3  {'\\n    Product Dimensions: \\n    ': '3 x 4 x ...  All Beauty   \n",
       "4  {'ASIN: ': 'B00006L9LC', 'UPC:': '795827187965...  All Beauty   \n",
       "\n",
       "                                            imageurl  \\\n",
       "0  ['https://images-na.ssl-images-amazon.com/imag...   \n",
       "1  ['https://images-na.ssl-images-amazon.com/imag...   \n",
       "2  ['https://images-na.ssl-images-amazon.com/imag...   \n",
       "3  ['https://images-na.ssl-images-amazon.com/imag...   \n",
       "4                                                 []   \n",
       "\n",
       "                                     imageurlhighres  \n",
       "0  ['https://images-na.ssl-images-amazon.com/imag...  \n",
       "1  ['https://images-na.ssl-images-amazon.com/imag...  \n",
       "2  ['https://images-na.ssl-images-amazon.com/imag...  \n",
       "3  ['https://images-na.ssl-images-amazon.com/imag...  \n",
       "4                                                 []  \n",
       "\n",
       "[5 rows x 21 columns]"
      ]
     },
     "execution_count": 361,
     "metadata": {},
     "output_type": "execute_result"
    }
   ],
   "source": [
    "df.head()"
   ]
  },
  {
   "cell_type": "markdown",
   "id": "a2f62101-9082-4eb8-a4d5-3839b0c362bc",
   "metadata": {},
   "source": [
    "### Data Cleaning Summary\n",
    "- As seen above, there ae no duplicates as verified by the reviewername, as it was duplicated (including reviewText) in the original file. The filter chekcing all if un-named bands and na values were cleared out also proved the data integrity. "
   ]
  },
  {
   "cell_type": "markdown",
   "id": "dee76c70-bbc5-4863-a6ff-a56d8bee985b",
   "metadata": {},
   "source": [
    "## Question 1: Do verified purchase reviews differ in rating compared to unverified ones?\n",
    "\n",
    "- Verified reviews may be more trustworthy and potentially more positive.\n",
    "- I would like to compare the **average star rating** between verified and unverified reviews using a group-by aggregation.\n",
    "\n"
   ]
  },
  {
   "cell_type": "code",
   "execution_count": 250,
   "id": "ba4688c2-c131-40ed-9cd5-f36132ff8099",
   "metadata": {},
   "outputs": [],
   "source": [
    "#Group by verification status and compute average rating\n",
    "verified_avg = df.groupby('verified')['overall'].mean().reset_index()\n",
    "\n",
    "# Set Seaborn style\n",
    "sns.set_style(\"whitegrid\")"
   ]
  },
  {
   "cell_type": "code",
   "execution_count": 252,
   "id": "c6c6eb7c-606b-4a1b-a887-7bcaa97623ff",
   "metadata": {},
   "outputs": [
    {
     "data": {
      "image/png": "[encoded data removed]",
      "text/plain": [
       "<Figure size 600x400 with 1 Axes>"
      ]
     },
     "metadata": {},
     "output_type": "display_data"
    }
   ],
   "source": [
    "# Plot \n",
    "plt.figure(figsize=(6, 4))\n",
    "barplot = sns.barplot(\n",
    "    data=verified_avg,\n",
    "    x='verified',\n",
    "    y='overall',\n",
    "    palette='Set2', \n",
    "    hue='verified',\n",
    "    dodge=False\n",
    ")\n",
    "\n",
    "# Add labels\n",
    "for p in barplot.patches:\n",
    "    height = p.get_height()\n",
    "    barplot.annotate(\n",
    "        f'{height:.2f}',\n",
    "        (p.get_x() + p.get_width() / 2., height + 0.02),\n",
    "        ha='center',\n",
    "        va='bottom',\n",
    "        fontsize=10\n",
    "    )\n",
    "\n",
    "# Labels\n",
    "plt.title('Average Rating: Verified vs Unverified Reviews', fontsize=13)\n",
    "plt.xlabel('Verified Purchase')\n",
    "plt.ylabel('Average Rating')\n",
    "plt.ylim(4.0, 5.1)\n",
    "plt.legend().remove()\n",
    "plt.tight_layout()\n",
    "plt.show()"
   ]
  },
  {
   "cell_type": "code",
   "execution_count": 196,
   "id": "5f394b90-da58-42fa-bcea-6f4c4b02e434",
   "metadata": {},
   "outputs": [],
   "source": [
    "\n"
   ]
  },
  {
   "cell_type": "markdown",
   "id": "6fefc0dd-bd3c-43b6-ab8a-0e33ea88d331",
   "metadata": {},
   "source": [
    "## Question 2: Are there temporal trends in reviews — do ratings trend higher or lower over time?\n",
    "\n",
    "- I extracted the **year** from the review timestamp and analyze the average rating by year.\n",
    "- This helps identify trends in consumer satisfaction or product quality over time.\n",
    "\n"
   ]
  },
  {
   "cell_type": "code",
   "execution_count": 254,
   "id": "b97c10c1-306e-4480-8e8f-d105a430824b",
   "metadata": {},
   "outputs": [
    {
     "data": {
      "image/png": "[encoded data removed]",
      "text/plain": [
       "<Figure size 1000x600 with 1 Axes>"
      ]
     },
     "metadata": {},
     "output_type": "display_data"
    }
   ],
   "source": [
    "sns.set_style(\"dark\")\n",
    "\n",
    "\n",
    "df['reviewtime'] = pd.to_datetime(df['reviewtime'], errors='coerce')\n",
    "df['review_year'] = df['reviewtime'].dt.year\n",
    "\n",
    "plt.figure(figsize=(10, 6))\n",
    "lineplot = sns.lineplot(data=yearly_avg, x='review_year', y='overall', marker='o', color='orange')\n",
    "\n",
    "# Clean data point labels with offsets\n",
    "for x, y in zip(yearly_avg['review_year'], yearly_avg['overall']):\n",
    "    offset = 0.04 if y < 4.3 else 0.02  # push low points higher to avoid crowding\n",
    "    plt.text(x, y + offset, f'{y:.2f}', ha='center', va='bottom', fontsize=9)\n",
    "\n",
    "\n",
    "# Tidy up axis\n",
    "plt.xticks(yearly_avg['review_year'], rotation=45)\n",
    "plt.title('Average Rating Over Time', fontsize=14)\n",
    "plt.xlabel('Year')\n",
    "plt.ylabel('Average Rating')\n",
    "plt.grid(True, linestyle='--', alpha=0.7)\n",
    "plt.show()\n"
   ]
  },
  {
   "cell_type": "markdown",
   "id": "0b2c192d-ca98-4872-83e7-97518d9e39e9",
   "metadata": {},
   "source": [
    "## Question 3: Which brands receive the most consistent ratings?\n",
    "\n",
    "To identify brands with the most consistent customer satisfaction, I calculated the standard deviation of star ratings for each brand. Brands with lower standard deviation values tend to receive more uniform ratings, indicating consistent experiences among customers.\n",
    "\n",
    "This analysis helps highlight trustworthy or reliably performing brands within the beauty product category.\n"
   ]
  },
  {
   "cell_type": "code",
   "execution_count": 256,
   "id": "678b9a10-24b4-48a5-8ff5-7a00f25dbae6",
   "metadata": {},
   "outputs": [],
   "source": [
    "# Filter out rows with missing brand values\n",
    "filtered_df = df[df['brand'].notna() & df['brand'].str.strip().ne('')]\n",
    "\n",
    "# Group by brand and calculate std + count\n",
    "brand_consistency = filtered_df.groupby('brand')['overall'].agg(['std', 'count']).reset_index()\n",
    "\n",
    "# Keep only brands with at least 20 reviews\n",
    "brand_consistency = brand_consistency[brand_consistency['count'] >= 20]\n",
    "\n",
    "# Sort and rename\n",
    "brand_consistency_sorted = brand_consistency.sort_values(by='std').head(10)\n",
    "brand_consistency_sorted.rename(columns={'std': 'rating_std_dev', 'count': 'review_count'}, inplace=True)"
   ]
  },
  {
   "cell_type": "code",
   "execution_count": 258,
   "id": "d5fffeca-558c-4ad7-b7cb-d881897ddf00",
   "metadata": {},
   "outputs": [
    {
     "data": {
      "image/png": "[encoded data removed]",
      "text/plain": [
       "<Figure size 1000x600 with 1 Axes>"
      ]
     },
     "metadata": {},
     "output_type": "display_data"
    }
   ],
   "source": [
    "# Plot\n",
    "plt.figure(figsize=(10, 6))\n",
    "barplot = sns.barplot(\n",
    "    data=brand_consistency_sorted,\n",
    "    x='rating_std_dev',\n",
    "    y='brand',\n",
    "    hue = 'brand',\n",
    "    palette='crest'\n",
    ")\n",
    "\n",
    "# Get correct y positions from bar containers\n",
    "for bar in barplot.patches:\n",
    "    width = bar.get_width()\n",
    "    y_pos = bar.get_y() + bar.get_height() / 2\n",
    "    plt.text(\n",
    "        width + 0.01,       # a little to the right of the bar\n",
    "        y_pos,              # vertical center of the bar\n",
    "        f\"{width:.2f}\",     # format label\n",
    "        va='center', ha='left', fontsize=9\n",
    "    )\n",
    "\n",
    "plt.title('Top 10 Most Consistent Brands (Lowest Std Dev of Ratings)', fontsize=14)\n",
    "plt.xlabel('Standard Deviation of Rating')\n",
    "plt.ylabel('Brand')\n",
    "plt.grid(True, axis='x', linestyle='--', alpha=0.5)\n",
    "plt.tight_layout()\n",
    "plt.show()\n"
   ]
  },
  {
   "cell_type": "markdown",
   "id": "eb0324c6-1aec-48ed-ba62-69343f114e03",
   "metadata": {},
   "source": [
    "## Question 4: Is there a correlation between the sentiment of review text and the star rating?\n",
    "\n",
    "- Use TextBlob to calculate the sentiment polarity of each review.\n",
    "- Then, we compare this sentiment score to the star rating (`overall`) left by the customer.\n",
    "- To keep it clear, we filter for the top 5 most-reviewed brands.\n",
    "\n",
    "This helps us explore whether **positively worded reviews truly correspond with high ratings**, and how that relationship may vary by brand.\n"
   ]
  },
  {
   "cell_type": "code",
   "execution_count": 260,
   "id": "c028daaa-25e3-4dad-b699-3c25a3cf5c9c",
   "metadata": {},
   "outputs": [
    {
     "data": {
      "image/png": "[encoded data removed]",
      "text/plain": [
       "<Figure size 600x400 with 2 Axes>"
      ]
     },
     "metadata": {},
     "output_type": "display_data"
    }
   ],
   "source": [
    "# Fill missing review text and calculate sentiment polarity\n",
    "df['reviewtext'] = df['reviewtext'].fillna('')\n",
    "df['sentiment'] = df['reviewtext'].apply(lambda x: TextBlob(x).sentiment.polarity)\n",
    "\n",
    "# Select only the sentiment and overall rating columns\n",
    "sentiment_corr_df = df[['sentiment', 'overall']]\n",
    "\n",
    "# Calculate the correlation matrix\n",
    "corr_matrix = sentiment_corr_df.corr()\n",
    "\n",
    "# Plot the heatmap\n",
    "plt.figure(figsize=(6, 4))\n",
    "sns.heatmap(corr_matrix, annot=True, cmap='coolwarm', fmt=\".2f\", square=True, linewidths=0.5)\n",
    "plt.title(\"Correlation Heatmap: Sentiment vs. Star Rating\")\n",
    "plt.tight_layout()\n",
    "plt.show()\n"
   ]
  },
  {
   "cell_type": "code",
   "execution_count": 262,
   "id": "67f7c601-7ea5-4643-8651-cc97f543d028",
   "metadata": {},
   "outputs": [
    {
     "name": "stdout",
     "output_type": "stream",
     "text": [
      "Correlation between sentiment and star rating: 0.30\n"
     ]
    }
   ],
   "source": [
    "# Pearson correlation\n",
    "correlation = df[['sentiment', 'overall']].corr().iloc[0,1]\n",
    "print(f\"Correlation between sentiment and star rating: {correlation:.2f}\")\n"
   ]
  },
  {
   "cell_type": "markdown",
   "id": "98e8be13-ee58-4781-b180-9f54d81855cc",
   "metadata": {},
   "source": [
    "## Final Summary of Findings"
   ]
  },
  {
   "cell_type": "markdown",
   "id": "65029549-b482-4bf6-b4ab-440835b86321",
   "metadata": {},
   "source": [
    "### 1. Do verified purchase reviews differ in rating compared to unverified ones?\n",
    "\n",
    "- The analysis reveals that **verified purchase reviews** have a **higher average star rating (4.81)** compared to **unverified reviews (4.58)**.\n",
    "- This suggests that verified purchasers tend to be more satisfied with their purchases, or they are more likely to leave favorable reviews.\n",
    "- Verified reviews may also indicate **authentic customer experiences**, providing more reliable signals of product quality.\n",
    "- In contrast, unverified reviews may include broader sentiment variance or less invested customer feedback.\n",
    "\n",
    "---\n",
    "\n",
    "### 2. Are there temporal trends in reviews — do ratings trend higher or lower over time?\n",
    "\n",
    "- The average ratings have remained **consistently high**, particularly between **2004 and 2016**, with values fluctuating between **4.8 and 5.0**, indicating general customer satisfaction throughout that period.\n",
    "- However, a **notable decline in average ratings appears during 2017–2018**, with a drop to around **3.75**, marking a potential shift in consumer expectations, product quality, or review behavior.\n",
    "- This temporal fluctuation could reflect changes in the beauty market, product reformulations, or increased consumer scrutiny in recent years.\n",
    "\n",
    "---\n",
    "\n",
    "### 3. Which brands receive the most consistent ratings?\n",
    "\n",
    "- Brands such as **Yardley** and **Fruits & Passion** demonstrate **low standard deviation in star ratings**, indicating a high level of **rating consistency** across customer reviews.\n",
    "- A lower standard deviation implies customers tend to **agree on the quality** of the product, which can be interpreted as a marker of **reliable product performance**.\n",
    "- These findings help identify **trustworthy brands** with strong customer satisfaction and loyalty, which could be useful for recommendation systems or market positioning analysis.\n",
    "\n",
    "---\n",
    "\n",
    "### 4. Is there a correlation between the sentiment of review text and the star rating?\n",
    "\n",
    "- A **moderate positive Pearson correlation of 0.30** was observed between **TextBlob sentiment polarity scores** and the actual **star ratings**.\n",
    "- This suggests that **more positive language** in review text generally correlates with **higher numeric ratings**, although the relationship is not perfect.\n",
    "- The correlation provides empirical support for the assumption that **sentiment analysis can act as a proxy** for overall user satisfaction.\n",
    "- However, the moderate strength also implies that sentiment does not capture all nuances of rating behavior and should be interpreted as **one contributing factor**, not a full predictor.\n"
   ]
  },
  {
   "cell_type": "markdown",
   "id": "860154de-83c1-4ea0-ab47-d8c4c0288c73",
   "metadata": {},
   "source": [
    "## Resources & Citations"
   ]
  },
  {
   "cell_type": "markdown",
   "id": "2a632c00-1a03-4255-b526-f0110b9e65a4",
   "metadata": {},
   "source": [
    "#### Question #1: Do verified purchase reviews differ in rating compared to unverified ones?\n",
    "\n",
    "- `sns.barplot(...)`\n",
    "  - https://seaborn.pydata.org/generated/seaborn.barplot.html\n",
    "  - https://stackoverflow.com/questions/43214978/how-to-display-custom-values-on-a-bar-plot\n",
    "\n",
    "- `barplot.patches`\n",
    "  - https://stackoverflow.com/questions/25447700/annotate-bars-with-values-on-pandas-bar-plots\n",
    "\n",
    "- `barplot.annotate(...)`\n",
    "  - https://matplotlib.org/stable/api/_as_gen/matplotlib.axes.Axes.annotate.html\n",
    "\n",
    "- `plt.ylim(...)` for setting y-axis range\n",
    "  - https://matplotlib.org/stable/api/_as_gen/matplotlib.pyplot.ylim.html"
   ]
  },
  {
   "cell_type": "markdown",
   "id": "52ca7cb7-9dcb-4175-bb9a-8bb55e08372f",
   "metadata": {},
   "source": [
    "#### Question #2: Are there temporal trends in reviews?\n",
    "\n",
    "- `pd.to_datetime`\n",
    "  - https://pandas.pydata.org/docs/reference/api/pandas.to_datetime.html\n",
    "\n",
    "- `df['reviewtime'].dt.year`\n",
    "  - https://stackoverflow.com/questions/30405413/pandas-extract-year-from-datetime-dfyear-dfdate-year-is-not-working\n",
    "\n",
    "- Annotating line plot with `plt.text(...)`\n",
    "  - https://stackoverflow.com/questions/31412831/add-labels-to-a-line-plot-in-matplotlib"
   ]
  },
  {
   "cell_type": "markdown",
   "id": "8131870a-2ac9-427f-a195-806c4a18d780",
   "metadata": {},
   "source": [
    "#### Question #3\n",
    "- Filtering missing or blank brand names:\n",
    "  - `df['brand'].notna() & df['brand'].str.strip().ne('')`\n",
    "  - https://stackoverflow.com/questions/29530232/how-to-check-if-a-pandas-dataframe-row-is-empty\n",
    "\n",
    "- Grouping and aggregating std + count:\n",
    "  - `groupby(...).agg(['std', 'count'])`\n",
    "  - https://pandas.pydata.org/docs/user_guide/groupby.html\n",
    "  - https://pandas.pydata.org/docs/reference/api/pandas.DataFrame.agg.html\n",
    "\n",
    "- Filtering by count threshold:\n",
    "  - `brand_consistency[brand_consistency['count'] >= 20]`\n",
    "  - https://stackoverflow.com/questions/15622808/filtering-a-pandas-dataframe\n",
    "\n",
    "- Sorting and renaming columns:\n",
    "  - `sort_values(by='std').head(10)`\n",
    "  - https://pandas.pydata.org/docs/reference/api/pandas.DataFrame.sort_values.html\n",
    "  - https://stackoverflow.com/questions/11346283/renaming-columns-in-pandas\n",
    "\n",
    "- Annotating bars using patch widths:\n",
    "  - `bar.get_width()` and `bar.get_y()`\n",
    "  - https://stackoverflow.com/questions/25447700/annotate-bars-with-values-on-bar-plot\n"
   ]
  },
  {
   "cell_type": "markdown",
   "id": "05995ce5-780c-4240-aef7-03556ba26a93",
   "metadata": {},
   "source": [
    "#### Question #4: Is there a correlation between the sentiment of review text and the star rating?\n",
    "\n",
    "- `TextBlob` for sentiment analysis\n",
    "  - https://textblob.readthedocs.io/en/dev/quickstart.html#sentiment-analysis\n",
    "  - https://www.geeksforgeeks.org/python-sentiment-analysis-using-textblob/\n",
    "\n",
    "- `apply(lambda x: TextBlob(x).sentiment.polarity)`\n",
    "  - https://stackoverflow.com/questions/38987/how-do-i-merge-two-dictionaries-in-a-single-expression-in-python\n",
    "\n",
    "- `df[['sentiment', 'overall']].corr()`\n",
    "  - https://pandas.pydata.org/pandas-docs/stable/reference/api/pandas.DataFrame.corr.html"
   ]
  }
 ],
 "metadata": {
  "kernelspec": {
   "display_name": "Python [conda env:base] *",
   "language": "python",
   "name": "conda-base-py"
  },
  "language_info": {
   "codemirror_mode": {
    "name": "ipython",
    "version": 3
   },
   "file_extension": ".py",
   "mimetype": "text/x-python",
   "name": "python",
   "nbconvert_exporter": "python",
   "pygments_lexer": "ipython3",
   "version": "3.11.11"
  }
 },
 "nbformat": 4,
 "nbformat_minor": 5
}
